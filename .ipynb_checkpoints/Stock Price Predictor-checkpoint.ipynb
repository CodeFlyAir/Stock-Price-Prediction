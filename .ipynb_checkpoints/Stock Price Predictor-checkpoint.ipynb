{
 "cells": [
  {
   "cell_type": "code",
   "execution_count": 1,
   "id": "f954a230",
   "metadata": {},
   "outputs": [],
   "source": [
    "import pandas as pd\n",
    "import numpy as np\n",
    "import seaborn as sns\n",
    "\n",
    "import yfinance as yf\n",
    "\n",
    "from sklearn.model_selection import cross_val_score\n",
    "from sklearn.metrics import r2_score , mean_squared_error"
   ]
  },
  {
   "cell_type": "code",
   "execution_count": 2,
   "id": "f6699c6b",
   "metadata": {},
   "outputs": [
    {
     "name": "stdout",
     "output_type": "stream",
     "text": [
      "[*********************100%***********************]  1 of 1 completed\n"
     ]
    },
    {
     "data": {
      "text/html": [
       "<div>\n",
       "<style scoped>\n",
       "    .dataframe tbody tr th:only-of-type {\n",
       "        vertical-align: middle;\n",
       "    }\n",
       "\n",
       "    .dataframe tbody tr th {\n",
       "        vertical-align: top;\n",
       "    }\n",
       "\n",
       "    .dataframe thead th {\n",
       "        text-align: right;\n",
       "    }\n",
       "</style>\n",
       "<table border=\"1\" class=\"dataframe\">\n",
       "  <thead>\n",
       "    <tr style=\"text-align: right;\">\n",
       "      <th></th>\n",
       "      <th>Open</th>\n",
       "      <th>High</th>\n",
       "      <th>Low</th>\n",
       "      <th>Close</th>\n",
       "      <th>Volume</th>\n",
       "    </tr>\n",
       "    <tr>\n",
       "      <th>Date</th>\n",
       "      <th></th>\n",
       "      <th></th>\n",
       "      <th></th>\n",
       "      <th></th>\n",
       "      <th></th>\n",
       "    </tr>\n",
       "  </thead>\n",
       "  <tbody>\n",
       "    <tr>\n",
       "      <th>2000-01-03</th>\n",
       "      <td>34.964409</td>\n",
       "      <td>36.763618</td>\n",
       "      <td>34.964409</td>\n",
       "      <td>36.763618</td>\n",
       "      <td>30313299</td>\n",
       "    </tr>\n",
       "    <tr>\n",
       "      <th>2000-01-04</th>\n",
       "      <td>37.164239</td>\n",
       "      <td>39.699158</td>\n",
       "      <td>36.566933</td>\n",
       "      <td>39.699158</td>\n",
       "      <td>60772935</td>\n",
       "    </tr>\n",
       "    <tr>\n",
       "      <th>2000-01-05</th>\n",
       "      <td>39.626324</td>\n",
       "      <td>41.782465</td>\n",
       "      <td>36.960289</td>\n",
       "      <td>41.593075</td>\n",
       "      <td>103133235</td>\n",
       "    </tr>\n",
       "    <tr>\n",
       "      <th>2000-01-06</th>\n",
       "      <td>41.942715</td>\n",
       "      <td>43.632663</td>\n",
       "      <td>41.942715</td>\n",
       "      <td>42.678425</td>\n",
       "      <td>63302093</td>\n",
       "    </tr>\n",
       "    <tr>\n",
       "      <th>2000-01-07</th>\n",
       "      <td>42.773119</td>\n",
       "      <td>46.087455</td>\n",
       "      <td>42.569160</td>\n",
       "      <td>45.672253</td>\n",
       "      <td>80825459</td>\n",
       "    </tr>\n",
       "  </tbody>\n",
       "</table>\n",
       "</div>"
      ],
      "text/plain": [
       "                 Open       High        Low      Close     Volume\n",
       "Date                                                             \n",
       "2000-01-03  34.964409  36.763618  34.964409  36.763618   30313299\n",
       "2000-01-04  37.164239  39.699158  36.566933  39.699158   60772935\n",
       "2000-01-05  39.626324  41.782465  36.960289  41.593075  103133235\n",
       "2000-01-06  41.942715  43.632663  41.942715  42.678425   63302093\n",
       "2000-01-07  42.773119  46.087455  42.569160  45.672253   80825459"
      ]
     },
     "execution_count": 2,
     "metadata": {},
     "output_type": "execute_result"
    }
   ],
   "source": [
    "data = yf.download(\"RELIANCE.BO\",start=\"2000-1-1\",end=\"2022-7-1\",auto_adjust=True)\n",
    "data.head()"
   ]
  },
  {
   "cell_type": "code",
   "execution_count": 3,
   "id": "374e8713",
   "metadata": {},
   "outputs": [
    {
     "data": {
      "text/html": [
       "<div>\n",
       "<style scoped>\n",
       "    .dataframe tbody tr th:only-of-type {\n",
       "        vertical-align: middle;\n",
       "    }\n",
       "\n",
       "    .dataframe tbody tr th {\n",
       "        vertical-align: top;\n",
       "    }\n",
       "\n",
       "    .dataframe thead th {\n",
       "        text-align: right;\n",
       "    }\n",
       "</style>\n",
       "<table border=\"1\" class=\"dataframe\">\n",
       "  <thead>\n",
       "    <tr style=\"text-align: right;\">\n",
       "      <th></th>\n",
       "      <th>Open</th>\n",
       "      <th>High</th>\n",
       "      <th>Low</th>\n",
       "      <th>Close</th>\n",
       "      <th>Volume</th>\n",
       "    </tr>\n",
       "  </thead>\n",
       "  <tbody>\n",
       "    <tr>\n",
       "      <th>count</th>\n",
       "      <td>5623.000000</td>\n",
       "      <td>5623.000000</td>\n",
       "      <td>5623.000000</td>\n",
       "      <td>5623.000000</td>\n",
       "      <td>5.623000e+03</td>\n",
       "    </tr>\n",
       "    <tr>\n",
       "      <th>mean</th>\n",
       "      <td>579.189887</td>\n",
       "      <td>586.348281</td>\n",
       "      <td>571.599877</td>\n",
       "      <td>578.648722</td>\n",
       "      <td>4.441352e+07</td>\n",
       "    </tr>\n",
       "    <tr>\n",
       "      <th>std</th>\n",
       "      <td>628.555296</td>\n",
       "      <td>635.602473</td>\n",
       "      <td>620.661371</td>\n",
       "      <td>627.785561</td>\n",
       "      <td>6.698131e+08</td>\n",
       "    </tr>\n",
       "    <tr>\n",
       "      <th>min</th>\n",
       "      <td>28.201211</td>\n",
       "      <td>28.568304</td>\n",
       "      <td>27.575896</td>\n",
       "      <td>27.733000</td>\n",
       "      <td>0.000000e+00</td>\n",
       "    </tr>\n",
       "    <tr>\n",
       "      <th>25%</th>\n",
       "      <td>77.595072</td>\n",
       "      <td>78.168241</td>\n",
       "      <td>76.263741</td>\n",
       "      <td>77.311005</td>\n",
       "      <td>5.594690e+05</td>\n",
       "    </tr>\n",
       "    <tr>\n",
       "      <th>50%</th>\n",
       "      <td>419.052547</td>\n",
       "      <td>424.838989</td>\n",
       "      <td>413.694131</td>\n",
       "      <td>418.826385</td>\n",
       "      <td>1.574268e+06</td>\n",
       "    </tr>\n",
       "    <tr>\n",
       "      <th>75%</th>\n",
       "      <td>583.252376</td>\n",
       "      <td>596.272114</td>\n",
       "      <td>575.645206</td>\n",
       "      <td>586.880829</td>\n",
       "      <td>7.168472e+06</td>\n",
       "    </tr>\n",
       "    <tr>\n",
       "      <th>max</th>\n",
       "      <td>2855.000000</td>\n",
       "      <td>2855.000000</td>\n",
       "      <td>2786.300049</td>\n",
       "      <td>2819.199951</td>\n",
       "      <td>2.053422e+10</td>\n",
       "    </tr>\n",
       "  </tbody>\n",
       "</table>\n",
       "</div>"
      ],
      "text/plain": [
       "              Open         High          Low        Close        Volume\n",
       "count  5623.000000  5623.000000  5623.000000  5623.000000  5.623000e+03\n",
       "mean    579.189887   586.348281   571.599877   578.648722  4.441352e+07\n",
       "std     628.555296   635.602473   620.661371   627.785561  6.698131e+08\n",
       "min      28.201211    28.568304    27.575896    27.733000  0.000000e+00\n",
       "25%      77.595072    78.168241    76.263741    77.311005  5.594690e+05\n",
       "50%     419.052547   424.838989   413.694131   418.826385  1.574268e+06\n",
       "75%     583.252376   596.272114   575.645206   586.880829  7.168472e+06\n",
       "max    2855.000000  2855.000000  2786.300049  2819.199951  2.053422e+10"
      ]
     },
     "execution_count": 3,
     "metadata": {},
     "output_type": "execute_result"
    }
   ],
   "source": [
    "data.describe()"
   ]
  },
  {
   "cell_type": "code",
   "execution_count": 4,
   "id": "145d0970",
   "metadata": {},
   "outputs": [
    {
     "data": {
      "image/png": "[encoded data removed]",
      "text/plain": [
       "<Figure size 720x360 with 1 Axes>"
      ]
     },
     "metadata": {
      "needs_background": "light"
     },
     "output_type": "display_data"
    }
   ],
   "source": [
    "import matplotlib.pyplot as plt\n",
    "%matplotlib inline\n",
    "\n",
    "data.Close.plot(figsize=(10,5),color=\"red\")\n",
    "plt.title(\"RELIANCE\")\n",
    "plt.xlabel(\"Date\")\n",
    "plt.ylabel(\"Close\")\n",
    "plt.show()"
   ]
  },
  {
   "cell_type": "code",
   "execution_count": 5,
   "id": "897dd45f",
   "metadata": {},
   "outputs": [
    {
     "data": {
      "image/png": "[encoded data removed]",
      "text/plain": [
       "<Figure size 720x360 with 1 Axes>"
      ]
     },
     "metadata": {
      "needs_background": "light"
     },
     "output_type": "display_data"
    }
   ],
   "source": [
    "data.Open.plot(figsize=(10,5),color=\"blue\")\n",
    "plt.xlabel(\"Date\")\n",
    "plt.ylabel(\"Open\")\n",
    "plt.title(\"RELIANCE\")\n",
    "plt.show()"
   ]
  },
  {
   "cell_type": "code",
   "execution_count": 6,
   "id": "2a89b396",
   "metadata": {},
   "outputs": [],
   "source": [
    "# sns.pairplot(data)"
   ]
  },
  {
   "cell_type": "code",
   "execution_count": 7,
   "id": "7809c9e0",
   "metadata": {},
   "outputs": [
    {
     "name": "stderr",
     "output_type": "stream",
     "text": [
      "C:\\Users\\KIIT\\AppData\\Local\\Programs\\Python\\Python310\\lib\\site-packages\\seaborn\\distributions.py:2619: FutureWarning: `distplot` is a deprecated function and will be removed in a future version. Please adapt your code to use either `displot` (a figure-level function with similar flexibility) or `histplot` (an axes-level function for histograms).\n",
      "  warnings.warn(msg, FutureWarning)\n"
     ]
    },
    {
     "data": {
      "text/plain": [
       "<AxesSubplot:xlabel='Close', ylabel='Density'>"
      ]
     },
     "execution_count": 7,
     "metadata": {},
     "output_type": "execute_result"
    },
    {
     "data": {
      "image/png": "[encoded data removed]",
      "text/plain": [
       "<Figure size 432x288 with 1 Axes>"
      ]
     },
     "metadata": {
      "needs_background": "light"
     },
     "output_type": "display_data"
    }
   ],
   "source": [
    "sns.distplot(data[\"Close\"])"
   ]
  },
  {
   "cell_type": "code",
   "execution_count": 8,
   "id": "a80bae43",
   "metadata": {},
   "outputs": [
    {
     "name": "stderr",
     "output_type": "stream",
     "text": [
      "C:\\Users\\KIIT\\AppData\\Local\\Programs\\Python\\Python310\\lib\\site-packages\\seaborn\\distributions.py:2619: FutureWarning: `distplot` is a deprecated function and will be removed in a future version. Please adapt your code to use either `displot` (a figure-level function with similar flexibility) or `histplot` (an axes-level function for histograms).\n",
      "  warnings.warn(msg, FutureWarning)\n"
     ]
    },
    {
     "data": {
      "text/plain": [
       "<AxesSubplot:xlabel='Open', ylabel='Density'>"
      ]
     },
     "execution_count": 8,
     "metadata": {},
     "output_type": "execute_result"
    },
    {
     "data": {
      "image/png": "[encoded data removed]",
      "text/plain": [
       "<Figure size 432x288 with 1 Axes>"
      ]
     },
     "metadata": {
      "needs_background": "light"
     },
     "output_type": "display_data"
    }
   ],
   "source": [
    "sns.distplot(data[\"Open\"])"
   ]
  },
  {
   "cell_type": "code",
   "execution_count": 9,
   "id": "240a9c76",
   "metadata": {},
   "outputs": [],
   "source": [
    "x = data.drop('Close',axis=1)\n",
    "y = data['Close']"
   ]
  },
  {
   "cell_type": "code",
   "execution_count": 10,
   "id": "e1f207ae",
   "metadata": {},
   "outputs": [],
   "source": [
    "from sklearn.model_selection import train_test_split\n",
    "\n",
    "x_train, x_test, y_train, y_test = train_test_split(x,y,test_size=0.2,random_state=42,shuffle=False)"
   ]
  },
  {
   "cell_type": "code",
   "execution_count": 11,
   "id": "e81a2aa5",
   "metadata": {},
   "outputs": [
    {
     "data": {
      "text/plain": [
       "Date\n",
       "2017-12-11     899.094055\n",
       "2017-12-12     898.259583\n",
       "2017-12-13     897.228882\n",
       "2017-12-14     903.658630\n",
       "2017-12-15     903.020630\n",
       "                 ...     \n",
       "2022-06-24    2500.750000\n",
       "2022-06-27    2491.949951\n",
       "2022-06-28    2529.000000\n",
       "2022-06-29    2579.050049\n",
       "2022-06-30    2594.050049\n",
       "Name: Close, Length: 1125, dtype: float64"
      ]
     },
     "execution_count": 11,
     "metadata": {},
     "output_type": "execute_result"
    }
   ],
   "source": [
    "y_test"
   ]
  },
  {
   "cell_type": "code",
   "execution_count": 12,
   "id": "0af46576",
   "metadata": {},
   "outputs": [],
   "source": [
    "def crossValidation(model):\n",
    "    score = cross_val_score(model,x_test,y_test,cv=10,scoring=\"neg_mean_squared_error\")\n",
    "    rmse = np.sqrt(-score)\n",
    "    return rmse"
   ]
  },
  {
   "cell_type": "code",
   "execution_count": 13,
   "id": "e74405f7",
   "metadata": {},
   "outputs": [],
   "source": [
    "def calculate_Metrics(model):\n",
    "    predict = model.predict(x_test)\n",
    "    mse = mean_squared_error(y_test,predict)\n",
    "    rmse = np.sqrt(mse)\n",
    "    \n",
    "    r2Score = r2_score(y_test , predict)\n",
    "    \n",
    "    return rmse , r2Score"
   ]
  },
  {
   "cell_type": "code",
   "execution_count": 27,
   "id": "b1e60ce6",
   "metadata": {},
   "outputs": [],
   "source": [
    "rmse_dict = {}\n",
    "r2sc_dict = {}\n",
    "crossVal_dict = {}"
   ]
  },
  {
   "cell_type": "code",
   "execution_count": 14,
   "id": "24a130ee",
   "metadata": {},
   "outputs": [],
   "source": [
    "from sklearn.linear_model import LinearRegression"
   ]
  },
  {
   "cell_type": "code",
   "execution_count": 15,
   "id": "c18afbfa",
   "metadata": {},
   "outputs": [],
   "source": [
    "lr_model = LinearRegression().fit(x_train,y_train)"
   ]
  },
  {
   "cell_type": "code",
   "execution_count": 16,
   "id": "224b6def",
   "metadata": {},
   "outputs": [],
   "source": [
    "Rmse , R2_score = calculate_Metrics(lr_model)"
   ]
  },
  {
   "cell_type": "code",
   "execution_count": 17,
   "id": "9a9cb6a0",
   "metadata": {},
   "outputs": [
    {
     "name": "stdout",
     "output_type": "stream",
     "text": [
      "Model Score :  0.9996649052622114\n",
      "Cross Validation Score :  9.860258357382481\n",
      "RMSE : 10.328791999102572\n",
      "R2_Score : 0.9996649052622114\n"
     ]
    }
   ],
   "source": [
    "print(\"Cross Validation Score : \",np.mean(crossValidation(lr_model)))\n",
    "print(f\"RMSE : {Rmse}\\nR2_Score : {R2_score}\")\n",
    "\n",
    "rmse_dict['Linear Regression'] = Rmse\n",
    "r2sc_dict['Linear Regression'] = R2_score\n",
    "crossVal_dict['Linear Regression'] = np.mean(crossValidation(lr_model))"
   ]
  },
  {
   "cell_type": "code",
   "execution_count": 18,
   "id": "c7e0f29c",
   "metadata": {},
   "outputs": [
    {
     "name": "stdout",
     "output_type": "stream",
     "text": [
      "Fitting 5 folds for each of 12 candidates, totalling 60 fits\n",
      "[CV 1/5] END ....C=0.1, gamma=1, kernel=rbf;, score=-1994.120 total time=   1.1s\n",
      "[CV 2/5] END ......C=0.1, gamma=1, kernel=rbf;, score=-17.110 total time=   1.1s\n",
      "[CV 3/5] END .......C=0.1, gamma=1, kernel=rbf;, score=-2.368 total time=   1.1s\n",
      "[CV 4/5] END .......C=0.1, gamma=1, kernel=rbf;, score=-8.759 total time=   1.1s\n",
      "[CV 5/5] END .......C=0.1, gamma=1, kernel=rbf;, score=-4.010 total time=   1.1s\n",
      "[CV 1/5] END ...C=0.1, gamma=10, kernel=rbf;, score=-1994.123 total time=   1.1s\n",
      "[CV 2/5] END .....C=0.1, gamma=10, kernel=rbf;, score=-17.110 total time=   1.1s\n",
      "[CV 3/5] END ......C=0.1, gamma=10, kernel=rbf;, score=-2.368 total time=   1.1s\n",
      "[CV 4/5] END ......C=0.1, gamma=10, kernel=rbf;, score=-8.759 total time=   1.1s\n",
      "[CV 5/5] END ......C=0.1, gamma=10, kernel=rbf;, score=-4.010 total time=   1.1s\n",
      "[CV 1/5] END ..C=0.1, gamma=100, kernel=rbf;, score=-1994.125 total time=   1.1s\n",
      "[CV 2/5] END ....C=0.1, gamma=100, kernel=rbf;, score=-17.110 total time=   1.1s\n",
      "[CV 3/5] END .....C=0.1, gamma=100, kernel=rbf;, score=-2.368 total time=   1.1s\n",
      "[CV 4/5] END .....C=0.1, gamma=100, kernel=rbf;, score=-8.759 total time=   1.1s\n",
      "[CV 5/5] END .....C=0.1, gamma=100, kernel=rbf;, score=-4.010 total time=   1.1s\n",
      "[CV 1/5] END ......C=1, gamma=1, kernel=rbf;, score=-1993.210 total time=   1.1s\n",
      "[CV 2/5] END ........C=1, gamma=1, kernel=rbf;, score=-17.100 total time=   1.1s\n",
      "[CV 3/5] END .........C=1, gamma=1, kernel=rbf;, score=-2.368 total time=   1.1s\n",
      "[CV 4/5] END .........C=1, gamma=1, kernel=rbf;, score=-8.732 total time=   1.1s\n",
      "[CV 5/5] END .........C=1, gamma=1, kernel=rbf;, score=-4.005 total time=   1.1s\n",
      "[CV 1/5] END .....C=1, gamma=10, kernel=rbf;, score=-1993.235 total time=   1.1s\n",
      "[CV 2/5] END .......C=1, gamma=10, kernel=rbf;, score=-17.100 total time=   1.1s\n",
      "[CV 3/5] END ........C=1, gamma=10, kernel=rbf;, score=-2.368 total time=   1.1s\n",
      "[CV 4/5] END ........C=1, gamma=10, kernel=rbf;, score=-8.732 total time=   1.1s\n",
      "[CV 5/5] END ........C=1, gamma=10, kernel=rbf;, score=-4.005 total time=   1.1s\n",
      "[CV 1/5] END ....C=1, gamma=100, kernel=rbf;, score=-1993.256 total time=   1.1s\n",
      "[CV 2/5] END ......C=1, gamma=100, kernel=rbf;, score=-17.100 total time=   1.1s\n",
      "[CV 3/5] END .......C=1, gamma=100, kernel=rbf;, score=-2.368 total time=   1.1s\n",
      "[CV 4/5] END .......C=1, gamma=100, kernel=rbf;, score=-8.732 total time=   1.1s\n",
      "[CV 5/5] END .......C=1, gamma=100, kernel=rbf;, score=-4.005 total time=   1.1s\n",
      "[CV 1/5] END .....C=10, gamma=1, kernel=rbf;, score=-1994.924 total time=   1.1s\n",
      "[CV 2/5] END .......C=10, gamma=1, kernel=rbf;, score=-17.117 total time=   1.1s\n",
      "[CV 3/5] END ........C=10, gamma=1, kernel=rbf;, score=-2.213 total time=   1.1s\n",
      "[CV 4/5] END ........C=10, gamma=1, kernel=rbf;, score=-8.896 total time=   1.1s\n",
      "[CV 5/5] END ........C=10, gamma=1, kernel=rbf;, score=-4.041 total time=   1.1s\n",
      "[CV 1/5] END ....C=10, gamma=10, kernel=rbf;, score=-1995.173 total time=   1.1s\n",
      "[CV 2/5] END ......C=10, gamma=10, kernel=rbf;, score=-17.120 total time=   1.1s\n",
      "[CV 3/5] END .......C=10, gamma=10, kernel=rbf;, score=-2.213 total time=   1.1s\n",
      "[CV 4/5] END .......C=10, gamma=10, kernel=rbf;, score=-8.896 total time=   1.1s\n",
      "[CV 5/5] END .......C=10, gamma=10, kernel=rbf;, score=-4.041 total time=   1.1s\n",
      "[CV 1/5] END ...C=10, gamma=100, kernel=rbf;, score=-1995.380 total time=   1.1s\n",
      "[CV 2/5] END .....C=10, gamma=100, kernel=rbf;, score=-17.123 total time=   1.1s\n",
      "[CV 3/5] END ......C=10, gamma=100, kernel=rbf;, score=-2.213 total time=   1.1s\n",
      "[CV 4/5] END ......C=10, gamma=100, kernel=rbf;, score=-8.896 total time=   1.1s\n",
      "[CV 5/5] END ......C=10, gamma=100, kernel=rbf;, score=-4.041 total time=   1.1s\n",
      "[CV 1/5] END ....C=100, gamma=1, kernel=rbf;, score=-1913.296 total time=   1.2s\n",
      "[CV 2/5] END ......C=100, gamma=1, kernel=rbf;, score=-16.259 total time=   1.2s\n",
      "[CV 3/5] END .......C=100, gamma=1, kernel=rbf;, score=-2.456 total time=   1.2s\n",
      "[CV 4/5] END .......C=100, gamma=1, kernel=rbf;, score=-9.538 total time=   1.1s\n",
      "[CV 5/5] END .......C=100, gamma=1, kernel=rbf;, score=-4.439 total time=   1.2s\n",
      "[CV 1/5] END ...C=100, gamma=10, kernel=rbf;, score=-1915.384 total time=   1.3s\n",
      "[CV 2/5] END .....C=100, gamma=10, kernel=rbf;, score=-16.276 total time=   1.2s\n",
      "[CV 3/5] END ......C=100, gamma=10, kernel=rbf;, score=-2.486 total time=   1.2s\n",
      "[CV 4/5] END ......C=100, gamma=10, kernel=rbf;, score=-9.773 total time=   1.2s\n",
      "[CV 5/5] END ......C=100, gamma=10, kernel=rbf;, score=-4.479 total time=   1.2s\n",
      "[CV 1/5] END ..C=100, gamma=100, kernel=rbf;, score=-1917.234 total time=   1.2s\n",
      "[CV 2/5] END ....C=100, gamma=100, kernel=rbf;, score=-16.297 total time=   1.2s\n",
      "[CV 3/5] END .....C=100, gamma=100, kernel=rbf;, score=-2.488 total time=   1.2s\n",
      "[CV 4/5] END .....C=100, gamma=100, kernel=rbf;, score=-9.802 total time=   1.1s\n",
      "[CV 5/5] END .....C=100, gamma=100, kernel=rbf;, score=-4.485 total time=   1.2s\n"
     ]
    },
    {
     "data": {
      "text/html": [
       "<style>#sk-container-id-1 {color: black;background-color: white;}#sk-container-id-1 pre{padding: 0;}#sk-container-id-1 div.sk-toggleable {background-color: white;}#sk-container-id-1 label.sk-toggleable__label {cursor: pointer;display: block;width: 100%;margin-bottom: 0;padding: 0.3em;box-sizing: border-box;text-align: center;}#sk-container-id-1 label.sk-toggleable__label-arrow:before {content: \"▸\";float: left;margin-right: 0.25em;color: #696969;}#sk-container-id-1 label.sk-toggleable__label-arrow:hover:before {color: black;}#sk-container-id-1 div.sk-estimator:hover label.sk-toggleable__label-arrow:before {color: black;}#sk-container-id-1 div.sk-toggleable__content {max-height: 0;max-width: 0;overflow: hidden;text-align: left;background-color: #f0f8ff;}#sk-container-id-1 div.sk-toggleable__content pre {margin: 0.2em;color: black;border-radius: 0.25em;background-color: #f0f8ff;}#sk-container-id-1 input.sk-toggleable__control:checked~div.sk-toggleable__content {max-height: 200px;max-width: 100%;overflow: auto;}#sk-container-id-1 input.sk-toggleable__control:checked~label.sk-toggleable__label-arrow:before {content: \"▾\";}#sk-container-id-1 div.sk-estimator input.sk-toggleable__control:checked~label.sk-toggleable__label {background-color: #d4ebff;}#sk-container-id-1 div.sk-label input.sk-toggleable__control:checked~label.sk-toggleable__label {background-color: #d4ebff;}#sk-container-id-1 input.sk-hidden--visually {border: 0;clip: rect(1px 1px 1px 1px);clip: rect(1px, 1px, 1px, 1px);height: 1px;margin: -1px;overflow: hidden;padding: 0;position: absolute;width: 1px;}#sk-container-id-1 div.sk-estimator {font-family: monospace;background-color: #f0f8ff;border: 1px dotted black;border-radius: 0.25em;box-sizing: border-box;margin-bottom: 0.5em;}#sk-container-id-1 div.sk-estimator:hover {background-color: #d4ebff;}#sk-container-id-1 div.sk-parallel-item::after {content: \"\";width: 100%;border-bottom: 1px solid gray;flex-grow: 1;}#sk-container-id-1 div.sk-label:hover label.sk-toggleable__label {background-color: #d4ebff;}#sk-container-id-1 div.sk-serial::before {content: \"\";position: absolute;border-left: 1px solid gray;box-sizing: border-box;top: 0;bottom: 0;left: 50%;z-index: 0;}#sk-container-id-1 div.sk-serial {display: flex;flex-direction: column;align-items: center;background-color: white;padding-right: 0.2em;padding-left: 0.2em;position: relative;}#sk-container-id-1 div.sk-item {position: relative;z-index: 1;}#sk-container-id-1 div.sk-parallel {display: flex;align-items: stretch;justify-content: center;background-color: white;position: relative;}#sk-container-id-1 div.sk-item::before, #sk-container-id-1 div.sk-parallel-item::before {content: \"\";position: absolute;border-left: 1px solid gray;box-sizing: border-box;top: 0;bottom: 0;left: 50%;z-index: -1;}#sk-container-id-1 div.sk-parallel-item {display: flex;flex-direction: column;z-index: 1;position: relative;background-color: white;}#sk-container-id-1 div.sk-parallel-item:first-child::after {align-self: flex-end;width: 50%;}#sk-container-id-1 div.sk-parallel-item:last-child::after {align-self: flex-start;width: 50%;}#sk-container-id-1 div.sk-parallel-item:only-child::after {width: 0;}#sk-container-id-1 div.sk-dashed-wrapped {border: 1px dashed gray;margin: 0 0.4em 0.5em 0.4em;box-sizing: border-box;padding-bottom: 0.4em;background-color: white;}#sk-container-id-1 div.sk-label label {font-family: monospace;font-weight: bold;display: inline-block;line-height: 1.2em;}#sk-container-id-1 div.sk-label-container {text-align: center;}#sk-container-id-1 div.sk-container {/* jupyter's `normalize.less` sets `[hidden] { display: none; }` but bootstrap.min.css set `[hidden] { display: none !important; }` so we also need the `!important` here to be able to override the default hidden behavior on the sphinx rendered scikit-learn.org. See: https://github.com/scikit-learn/scikit-learn/issues/21755 */display: inline-block !important;position: relative;}#sk-container-id-1 div.sk-text-repr-fallback {display: none;}</style><div id=\"sk-container-id-1\" class=\"sk-top-container\"><div class=\"sk-text-repr-fallback\"><pre>SVR(C=100, gamma=1)</pre><b>In a Jupyter environment, please rerun this cell to show the HTML representation or trust the notebook. <br />On GitHub, the HTML representation is unable to render, please try loading this page with nbviewer.org.</b></div><div class=\"sk-container\" hidden><div class=\"sk-item\"><div class=\"sk-estimator sk-toggleable\"><input class=\"sk-toggleable__control sk-hidden--visually\" id=\"sk-estimator-id-1\" type=\"checkbox\" checked><label for=\"sk-estimator-id-1\" class=\"sk-toggleable__label sk-toggleable__label-arrow\">SVR</label><div class=\"sk-toggleable__content\"><pre>SVR(C=100, gamma=1)</pre></div></div></div></div></div>"
      ],
      "text/plain": [
       "SVR(C=100, gamma=1)"
      ]
     },
     "execution_count": 18,
     "metadata": {},
     "output_type": "execute_result"
    }
   ],
   "source": [
    "from sklearn.svm import SVR\n",
    "from sklearn.model_selection import GridSearchCV\n",
    "\n",
    "svr_model = SVR()\n",
    "param_grid = {\n",
    "              'C' : [0.1,1,10,100],\n",
    "              'gamma' : [1,10,100],\n",
    "              'kernel' : ['rbf']\n",
    "             }\n",
    "\n",
    "grid = GridSearchCV(SVR() , param_grid , refit= True , verbose = 3)\n",
    "grid.fit(x_train,y_train)\n",
    "grid.best_estimator_"
   ]
  },
  {
   "cell_type": "code",
   "execution_count": 19,
   "id": "a5f7829e",
   "metadata": {},
   "outputs": [],
   "source": [
    "svr_model = SVR(C=100 , gamma=1 , kernel='rbf').fit(x_train,y_train)"
   ]
  },
  {
   "cell_type": "code",
   "execution_count": 20,
   "id": "623302a9",
   "metadata": {},
   "outputs": [],
   "source": [
    "Rmse , R2_score = calculate_Metrics(svr_model)"
   ]
  },
  {
   "cell_type": "code",
   "execution_count": 21,
   "id": "406aaa56",
   "metadata": {},
   "outputs": [
    {
     "name": "stdout",
     "output_type": "stream",
     "text": [
      "Model Score :  -5.4305610382495475\n",
      "Cross Validation Score :  643.8786113002246\n",
      "RMSE : 1430.8369939314518\n",
      "R2_Score : -5.4305610382495475\n"
     ]
    }
   ],
   "source": [
    "print(\"Cross Validation Score : \",np.mean(crossValidation(svr_model)))\n",
    "print(f\"RMSE : {Rmse}\\nR2_Score : {R2_score}\")\n",
    "\n",
    "rmse_dict['SVM Regression'] = Rmse\n",
    "r2sc_dict['SVM Regression'] = R2_score\n",
    "crossVal_dict['SVM Regression'] = np.mean(crossValidation(svr_model))"
   ]
  },
  {
   "cell_type": "code",
   "execution_count": 22,
   "id": "64d3059f",
   "metadata": {},
   "outputs": [],
   "source": [
    "from sklearn.linear_model import Ridge\n",
    "from sklearn.pipeline import make_pipeline\n",
    "from sklearn.preprocessing import StandardScaler\n",
    "\n",
    "ri_model = make_pipeline(StandardScaler(),Ridge()).fit(x_train,y_train)"
   ]
  },
  {
   "cell_type": "code",
   "execution_count": 23,
   "id": "03d4ff3b",
   "metadata": {},
   "outputs": [
    {
     "name": "stdout",
     "output_type": "stream",
     "text": [
      "Model Score :  0.9994681166903081\n",
      "Cross Validation Score :  13.76461355164281\n",
      "RMSE : 13.012894506059121\n",
      "R2_Score : 0.9994681166903081\n"
     ]
    }
   ],
   "source": [
    "Rmse , R2_score = calculate_Metrics(ri_model)\n",
    "print(\"Cross Validation Score : \",np.mean(crossValidation(ri_model)))\n",
    "print(f\"RMSE : {Rmse}\\nR2_Score : {R2_score}\")\n",
    "\n",
    "rmse_dict['Ridge Regression'] = Rmse\n",
    "r2sc_dict['Ridge Regression'] = R2_score\n",
    "crossVal_dict['Ridge Regression'] = np.mean(crossValidation(ri_model))"
   ]
  },
  {
   "cell_type": "code",
   "execution_count": null,
   "id": "2617db38",
   "metadata": {},
   "outputs": [],
   "source": [
    "value = list(rmse.values())\n",
    "keys = list(rmse.keys())\n",
    "\n",
    "plt.bar()"
   ]
  }
 ],
 "metadata": {
  "kernelspec": {
   "display_name": "Python 3 (ipykernel)",
   "language": "python",
   "name": "python3"
  },
  "language_info": {
   "codemirror_mode": {
    "name": "ipython",
    "version": 3
   },
   "file_extension": ".py",
   "mimetype": "text/x-python",
   "name": "python",
   "nbconvert_exporter": "python",
   "pygments_lexer": "ipython3",
   "version": "3.10.5"
  }
 },
 "nbformat": 4,
 "nbformat_minor": 5
}
