{
 "cells": [
  {
   "cell_type": "code",
   "execution_count": 1,
   "id": "1e57a796",
   "metadata": {},
   "outputs": [],
   "source": [
    "import pandas as pd\n",
    "import numpy as np\n",
    "import seaborn as sns\n",
    "\n",
    "import yfinance as yf\n",
    "\n",
    "from sklearn.model_selection import cross_val_score\n",
    "from sklearn.metrics import r2_score , mean_squared_error"
   ]
  },
  {
   "cell_type": "code",
   "execution_count": 2,
   "id": "bb675252",
   "metadata": {},
   "outputs": [
    {
     "name": "stdout",
     "output_type": "stream",
     "text": [
      "[*********************100%***********************]  1 of 1 completed\n"
     ]
    },
    {
     "data": {
      "text/html": [
       "<div>\n",
       "<style scoped>\n",
       "    .dataframe tbody tr th:only-of-type {\n",
       "        vertical-align: middle;\n",
       "    }\n",
       "\n",
       "    .dataframe tbody tr th {\n",
       "        vertical-align: top;\n",
       "    }\n",
       "\n",
       "    .dataframe thead th {\n",
       "        text-align: right;\n",
       "    }\n",
       "</style>\n",
       "<table border=\"1\" class=\"dataframe\">\n",
       "  <thead>\n",
       "    <tr style=\"text-align: right;\">\n",
       "      <th></th>\n",
       "      <th>Open</th>\n",
       "      <th>High</th>\n",
       "      <th>Low</th>\n",
       "      <th>Close</th>\n",
       "      <th>Volume</th>\n",
       "    </tr>\n",
       "    <tr>\n",
       "      <th>Date</th>\n",
       "      <th></th>\n",
       "      <th></th>\n",
       "      <th></th>\n",
       "      <th></th>\n",
       "      <th></th>\n",
       "    </tr>\n",
       "  </thead>\n",
       "  <tbody>\n",
       "    <tr>\n",
       "      <th>2002-05-23</th>\n",
       "      <td>1.156429</td>\n",
       "      <td>1.242857</td>\n",
       "      <td>1.145714</td>\n",
       "      <td>1.196429</td>\n",
       "      <td>104790000</td>\n",
       "    </tr>\n",
       "    <tr>\n",
       "      <th>2002-05-24</th>\n",
       "      <td>1.214286</td>\n",
       "      <td>1.225000</td>\n",
       "      <td>1.197143</td>\n",
       "      <td>1.210000</td>\n",
       "      <td>11104800</td>\n",
       "    </tr>\n",
       "    <tr>\n",
       "      <th>2002-05-28</th>\n",
       "      <td>1.213571</td>\n",
       "      <td>1.232143</td>\n",
       "      <td>1.157143</td>\n",
       "      <td>1.157143</td>\n",
       "      <td>6609400</td>\n",
       "    </tr>\n",
       "    <tr>\n",
       "      <th>2002-05-29</th>\n",
       "      <td>1.164286</td>\n",
       "      <td>1.164286</td>\n",
       "      <td>1.085714</td>\n",
       "      <td>1.103571</td>\n",
       "      <td>6757800</td>\n",
       "    </tr>\n",
       "    <tr>\n",
       "      <th>2002-05-30</th>\n",
       "      <td>1.107857</td>\n",
       "      <td>1.107857</td>\n",
       "      <td>1.071429</td>\n",
       "      <td>1.071429</td>\n",
       "      <td>10154200</td>\n",
       "    </tr>\n",
       "  </tbody>\n",
       "</table>\n",
       "</div>"
      ],
      "text/plain": [
       "                Open      High       Low     Close     Volume\n",
       "Date                                                         \n",
       "2002-05-23  1.156429  1.242857  1.145714  1.196429  104790000\n",
       "2002-05-24  1.214286  1.225000  1.197143  1.210000   11104800\n",
       "2002-05-28  1.213571  1.232143  1.157143  1.157143    6609400\n",
       "2002-05-29  1.164286  1.164286  1.085714  1.103571    6757800\n",
       "2002-05-30  1.107857  1.107857  1.071429  1.071429   10154200"
      ]
     },
     "execution_count": 2,
     "metadata": {},
     "output_type": "execute_result"
    }
   ],
   "source": [
    "stock_tinker = \"NFLX\" # Enter stock code from Yahoo Finance Here\n",
    "data = yf.download(stock_tinker,auto_adjust=True)\n",
    "data.head()"
   ]
  },
  {
   "cell_type": "code",
   "execution_count": 3,
   "id": "53860985",
   "metadata": {},
   "outputs": [
    {
     "data": {
      "text/html": [
       "<div>\n",
       "<style scoped>\n",
       "    .dataframe tbody tr th:only-of-type {\n",
       "        vertical-align: middle;\n",
       "    }\n",
       "\n",
       "    .dataframe tbody tr th {\n",
       "        vertical-align: top;\n",
       "    }\n",
       "\n",
       "    .dataframe thead th {\n",
       "        text-align: right;\n",
       "    }\n",
       "</style>\n",
       "<table border=\"1\" class=\"dataframe\">\n",
       "  <thead>\n",
       "    <tr style=\"text-align: right;\">\n",
       "      <th></th>\n",
       "      <th>Open</th>\n",
       "      <th>High</th>\n",
       "      <th>Low</th>\n",
       "      <th>Close</th>\n",
       "      <th>Volume</th>\n",
       "    </tr>\n",
       "  </thead>\n",
       "  <tbody>\n",
       "    <tr>\n",
       "      <th>count</th>\n",
       "      <td>5064.000000</td>\n",
       "      <td>5064.000000</td>\n",
       "      <td>5064.000000</td>\n",
       "      <td>5064.000000</td>\n",
       "      <td>5.064000e+03</td>\n",
       "    </tr>\n",
       "    <tr>\n",
       "      <th>mean</th>\n",
       "      <td>116.727709</td>\n",
       "      <td>118.507600</td>\n",
       "      <td>114.828783</td>\n",
       "      <td>116.716798</td>\n",
       "      <td>1.650026e+07</td>\n",
       "    </tr>\n",
       "    <tr>\n",
       "      <th>std</th>\n",
       "      <td>168.458969</td>\n",
       "      <td>170.857490</td>\n",
       "      <td>165.840063</td>\n",
       "      <td>168.386682</td>\n",
       "      <td>1.921378e+07</td>\n",
       "    </tr>\n",
       "    <tr>\n",
       "      <th>min</th>\n",
       "      <td>0.377857</td>\n",
       "      <td>0.410714</td>\n",
       "      <td>0.346429</td>\n",
       "      <td>0.372857</td>\n",
       "      <td>2.856000e+05</td>\n",
       "    </tr>\n",
       "    <tr>\n",
       "      <th>25%</th>\n",
       "      <td>3.958214</td>\n",
       "      <td>4.042857</td>\n",
       "      <td>3.892143</td>\n",
       "      <td>3.963929</td>\n",
       "      <td>6.168225e+06</td>\n",
       "    </tr>\n",
       "    <tr>\n",
       "      <th>50%</th>\n",
       "      <td>26.039286</td>\n",
       "      <td>26.466428</td>\n",
       "      <td>25.607143</td>\n",
       "      <td>25.996428</td>\n",
       "      <td>1.057595e+07</td>\n",
       "    </tr>\n",
       "    <tr>\n",
       "      <th>75%</th>\n",
       "      <td>159.157501</td>\n",
       "      <td>160.904999</td>\n",
       "      <td>157.264999</td>\n",
       "      <td>158.915001</td>\n",
       "      <td>1.973842e+07</td>\n",
       "    </tr>\n",
       "    <tr>\n",
       "      <th>max</th>\n",
       "      <td>692.349976</td>\n",
       "      <td>700.989990</td>\n",
       "      <td>686.090027</td>\n",
       "      <td>691.690002</td>\n",
       "      <td>3.234140e+08</td>\n",
       "    </tr>\n",
       "  </tbody>\n",
       "</table>\n",
       "</div>"
      ],
      "text/plain": [
       "              Open         High          Low        Close        Volume\n",
       "count  5064.000000  5064.000000  5064.000000  5064.000000  5.064000e+03\n",
       "mean    116.727709   118.507600   114.828783   116.716798  1.650026e+07\n",
       "std     168.458969   170.857490   165.840063   168.386682  1.921378e+07\n",
       "min       0.377857     0.410714     0.346429     0.372857  2.856000e+05\n",
       "25%       3.958214     4.042857     3.892143     3.963929  6.168225e+06\n",
       "50%      26.039286    26.466428    25.607143    25.996428  1.057595e+07\n",
       "75%     159.157501   160.904999   157.264999   158.915001  1.973842e+07\n",
       "max     692.349976   700.989990   686.090027   691.690002  3.234140e+08"
      ]
     },
     "execution_count": 3,
     "metadata": {},
     "output_type": "execute_result"
    }
   ],
   "source": [
    "data.describe()"
   ]
  },
  {
   "cell_type": "code",
   "execution_count": 4,
   "id": "13bd552d",
   "metadata": {},
   "outputs": [
    {
     "data": {
      "image/png": "[encoded data removed]",
      "text/plain": [
       "<Figure size 720x360 with 1 Axes>"
      ]
     },
     "metadata": {
      "needs_background": "light"
     },
     "output_type": "display_data"
    }
   ],
   "source": [
    "import matplotlib.pyplot as plt\n",
    "%matplotlib inline\n",
    "\n",
    "data.Close.plot(figsize=(10,5),color=\"red\")\n",
    "plt.title(stock_tinker)\n",
    "plt.xlabel(\"Date\")\n",
    "plt.ylabel(\"Close\")\n",
    "plt.show()"
   ]
  },
  {
   "cell_type": "code",
   "execution_count": 5,
   "id": "0594219a",
   "metadata": {},
   "outputs": [
    {
     "data": {
      "image/png": "[encoded data removed]",
      "text/plain": [
       "<Figure size 720x360 with 1 Axes>"
      ]
     },
     "metadata": {
      "needs_background": "light"
     },
     "output_type": "display_data"
    }
   ],
   "source": [
    "data.Open.plot(figsize=(10,5),color=\"blue\")\n",
    "plt.xlabel(\"Date\")\n",
    "plt.ylabel(\"Open\")\n",
    "plt.title(stock_tinker)\n",
    "plt.show()"
   ]
  },
  {
   "cell_type": "code",
   "execution_count": 6,
   "id": "603f70b7",
   "metadata": {},
   "outputs": [],
   "source": [
    "# sns.pairplot(data)"
   ]
  },
  {
   "cell_type": "code",
   "execution_count": 7,
   "id": "cf218cb3",
   "metadata": {},
   "outputs": [
    {
     "name": "stderr",
     "output_type": "stream",
     "text": [
      "C:\\Users\\KIIT\\AppData\\Local\\Programs\\Python\\Python310\\lib\\site-packages\\seaborn\\distributions.py:2619: FutureWarning: `distplot` is a deprecated function and will be removed in a future version. Please adapt your code to use either `displot` (a figure-level function with similar flexibility) or `histplot` (an axes-level function for histograms).\n",
      "  warnings.warn(msg, FutureWarning)\n"
     ]
    },
    {
     "data": {
      "text/plain": [
       "<AxesSubplot:xlabel='Close', ylabel='Density'>"
      ]
     },
     "execution_count": 7,
     "metadata": {},
     "output_type": "execute_result"
    },
    {
     "data": {
      "image/png": "[encoded data removed]",
      "text/plain": [
       "<Figure size 432x288 with 1 Axes>"
      ]
     },
     "metadata": {
      "needs_background": "light"
     },
     "output_type": "display_data"
    }
   ],
   "source": [
    "sns.distplot(data[\"Close\"])"
   ]
  },
  {
   "cell_type": "code",
   "execution_count": 8,
   "id": "75903c3f",
   "metadata": {},
   "outputs": [
    {
     "name": "stderr",
     "output_type": "stream",
     "text": [
      "C:\\Users\\KIIT\\AppData\\Local\\Programs\\Python\\Python310\\lib\\site-packages\\seaborn\\distributions.py:2619: FutureWarning: `distplot` is a deprecated function and will be removed in a future version. Please adapt your code to use either `displot` (a figure-level function with similar flexibility) or `histplot` (an axes-level function for histograms).\n",
      "  warnings.warn(msg, FutureWarning)\n"
     ]
    },
    {
     "data": {
      "text/plain": [
       "<AxesSubplot:xlabel='Open', ylabel='Density'>"
      ]
     },
     "execution_count": 8,
     "metadata": {},
     "output_type": "execute_result"
    },
    {
     "data": {
      "image/png": "[encoded data removed]",
      "text/plain": [
       "<Figure size 432x288 with 1 Axes>"
      ]
     },
     "metadata": {
      "needs_background": "light"
     },
     "output_type": "display_data"
    }
   ],
   "source": [
    "sns.distplot(data[\"Open\"])"
   ]
  },
  {
   "cell_type": "code",
   "execution_count": 9,
   "id": "0dc1563d",
   "metadata": {},
   "outputs": [],
   "source": [
    "x = data.drop('Close',axis=1)\n",
    "y = data['Close']"
   ]
  },
  {
   "cell_type": "code",
   "execution_count": 10,
   "id": "a3e8806e",
   "metadata": {},
   "outputs": [],
   "source": [
    "from sklearn.model_selection import train_test_split\n",
    "\n",
    "x_train, x_test, y_train, y_test = train_test_split(x,y,test_size=0.2,random_state=42,shuffle=False)"
   ]
  },
  {
   "cell_type": "code",
   "execution_count": 11,
   "id": "e584b6dd",
   "metadata": {},
   "outputs": [
    {
     "data": {
      "text/html": [
       "<div>\n",
       "<style scoped>\n",
       "    .dataframe tbody tr th:only-of-type {\n",
       "        vertical-align: middle;\n",
       "    }\n",
       "\n",
       "    .dataframe tbody tr th {\n",
       "        vertical-align: top;\n",
       "    }\n",
       "\n",
       "    .dataframe thead th {\n",
       "        text-align: right;\n",
       "    }\n",
       "</style>\n",
       "<table border=\"1\" class=\"dataframe\">\n",
       "  <thead>\n",
       "    <tr style=\"text-align: right;\">\n",
       "      <th></th>\n",
       "      <th>Open</th>\n",
       "      <th>High</th>\n",
       "      <th>Low</th>\n",
       "      <th>Volume</th>\n",
       "    </tr>\n",
       "    <tr>\n",
       "      <th>Date</th>\n",
       "      <th></th>\n",
       "      <th></th>\n",
       "      <th></th>\n",
       "      <th></th>\n",
       "    </tr>\n",
       "  </thead>\n",
       "  <tbody>\n",
       "    <tr>\n",
       "      <th>2018-06-26</th>\n",
       "      <td>393.279999</td>\n",
       "      <td>404.779999</td>\n",
       "      <td>389.049988</td>\n",
       "      <td>15191200</td>\n",
       "    </tr>\n",
       "    <tr>\n",
       "      <th>2018-06-27</th>\n",
       "      <td>407.559998</td>\n",
       "      <td>411.589996</td>\n",
       "      <td>390.000000</td>\n",
       "      <td>16541400</td>\n",
       "    </tr>\n",
       "    <tr>\n",
       "      <th>2018-06-28</th>\n",
       "      <td>395.000000</td>\n",
       "      <td>396.899994</td>\n",
       "      <td>387.100006</td>\n",
       "      <td>12219900</td>\n",
       "    </tr>\n",
       "    <tr>\n",
       "      <th>2018-06-29</th>\n",
       "      <td>399.190002</td>\n",
       "      <td>401.329987</td>\n",
       "      <td>390.549988</td>\n",
       "      <td>9252500</td>\n",
       "    </tr>\n",
       "    <tr>\n",
       "      <th>2018-07-02</th>\n",
       "      <td>385.450012</td>\n",
       "      <td>398.380005</td>\n",
       "      <td>380.000000</td>\n",
       "      <td>8142500</td>\n",
       "    </tr>\n",
       "    <tr>\n",
       "      <th>...</th>\n",
       "      <td>...</td>\n",
       "      <td>...</td>\n",
       "      <td>...</td>\n",
       "      <td>...</td>\n",
       "    </tr>\n",
       "    <tr>\n",
       "      <th>2022-06-28</th>\n",
       "      <td>189.199997</td>\n",
       "      <td>192.199997</td>\n",
       "      <td>179.369995</td>\n",
       "      <td>7185400</td>\n",
       "    </tr>\n",
       "    <tr>\n",
       "      <th>2022-06-29</th>\n",
       "      <td>179.550003</td>\n",
       "      <td>180.669998</td>\n",
       "      <td>175.100006</td>\n",
       "      <td>5766800</td>\n",
       "    </tr>\n",
       "    <tr>\n",
       "      <th>2022-06-30</th>\n",
       "      <td>177.070007</td>\n",
       "      <td>179.449997</td>\n",
       "      <td>170.300003</td>\n",
       "      <td>7894700</td>\n",
       "    </tr>\n",
       "    <tr>\n",
       "      <th>2022-07-01</th>\n",
       "      <td>176.490005</td>\n",
       "      <td>180.100006</td>\n",
       "      <td>174.270004</td>\n",
       "      <td>5194700</td>\n",
       "    </tr>\n",
       "    <tr>\n",
       "      <th>2022-07-05</th>\n",
       "      <td>176.279999</td>\n",
       "      <td>184.169907</td>\n",
       "      <td>172.680099</td>\n",
       "      <td>3970616</td>\n",
       "    </tr>\n",
       "  </tbody>\n",
       "</table>\n",
       "<p>1013 rows × 4 columns</p>\n",
       "</div>"
      ],
      "text/plain": [
       "                  Open        High         Low    Volume\n",
       "Date                                                    \n",
       "2018-06-26  393.279999  404.779999  389.049988  15191200\n",
       "2018-06-27  407.559998  411.589996  390.000000  16541400\n",
       "2018-06-28  395.000000  396.899994  387.100006  12219900\n",
       "2018-06-29  399.190002  401.329987  390.549988   9252500\n",
       "2018-07-02  385.450012  398.380005  380.000000   8142500\n",
       "...                ...         ...         ...       ...\n",
       "2022-06-28  189.199997  192.199997  179.369995   7185400\n",
       "2022-06-29  179.550003  180.669998  175.100006   5766800\n",
       "2022-06-30  177.070007  179.449997  170.300003   7894700\n",
       "2022-07-01  176.490005  180.100006  174.270004   5194700\n",
       "2022-07-05  176.279999  184.169907  172.680099   3970616\n",
       "\n",
       "[1013 rows x 4 columns]"
      ]
     },
     "execution_count": 11,
     "metadata": {},
     "output_type": "execute_result"
    }
   ],
   "source": [
    "x_test"
   ]
  },
  {
   "cell_type": "code",
   "execution_count": 12,
   "id": "fcf61069",
   "metadata": {},
   "outputs": [],
   "source": [
    "def crossValidation(model):\n",
    "    score = cross_val_score(model,x_test,y_test,cv=10,scoring=\"neg_mean_squared_error\")\n",
    "    rmse = np.sqrt(-score)\n",
    "    return rmse"
   ]
  },
  {
   "cell_type": "code",
   "execution_count": 13,
   "id": "4fef9937",
   "metadata": {},
   "outputs": [],
   "source": [
    "def calculate_Metrics(model):\n",
    "    predict = model.predict(x_test)\n",
    "    mse = mean_squared_error(y_test,predict)\n",
    "    rmse = np.sqrt(mse)\n",
    "    \n",
    "    r2Score = r2_score(y_test , predict)\n",
    "    \n",
    "    return rmse , r2Score"
   ]
  },
  {
   "cell_type": "code",
   "execution_count": 14,
   "id": "e1306b17",
   "metadata": {},
   "outputs": [],
   "source": [
    "rmse_dict = {}\n",
    "r2sc_dict = {}\n",
    "crossVal_dict = {}"
   ]
  },
  {
   "cell_type": "code",
   "execution_count": 15,
   "id": "e55466e3",
   "metadata": {},
   "outputs": [],
   "source": [
    "from sklearn.linear_model import LinearRegression"
   ]
  },
  {
   "cell_type": "code",
   "execution_count": 16,
   "id": "df765f7d",
   "metadata": {},
   "outputs": [],
   "source": [
    "lr_model = LinearRegression().fit(x_train,y_train)"
   ]
  },
  {
   "cell_type": "code",
   "execution_count": 17,
   "id": "1d100597",
   "metadata": {},
   "outputs": [],
   "source": [
    "Rmse , R2_score = calculate_Metrics(lr_model)"
   ]
  },
  {
   "cell_type": "code",
   "execution_count": 18,
   "id": "896489d0",
   "metadata": {},
   "outputs": [
    {
     "name": "stdout",
     "output_type": "stream",
     "text": [
      "Cross Validation Score :  3.767055487368085\n",
      "RMSE : 4.012480411912832\n",
      "R2_Score : 0.9988019519068061\n"
     ]
    }
   ],
   "source": [
    "print(\"Cross Validation Score : \",np.mean(crossValidation(lr_model)))\n",
    "print(f\"RMSE : {Rmse}\\nR2_Score : {R2_score}\")\n",
    "\n",
    "rmse_dict['Linear Regression'] = Rmse\n",
    "r2sc_dict['Linear Regression'] = R2_score\n",
    "crossVal_dict['Linear Regression'] = np.mean(crossValidation(lr_model))"
   ]
  },
  {
   "cell_type": "code",
   "execution_count": 19,
   "id": "418c72dc",
   "metadata": {},
   "outputs": [
    {
     "data": {
      "image/png": "[encoded data removed]",
      "text/plain": [
       "<Figure size 432x288 with 1 Axes>"
      ]
     },
     "metadata": {
      "needs_background": "light"
     },
     "output_type": "display_data"
    }
   ],
   "source": [
    "predictedPrice = lr_model.predict(x_test)\n",
    "plt.plot(predictedPrice,color = 'red')\n",
    "plt.plot(list(y_test),color='green')\n",
    "plt.show()"
   ]
  },
  {
   "cell_type": "code",
   "execution_count": 20,
   "id": "651f4bc2",
   "metadata": {},
   "outputs": [],
   "source": [
    "from sklearn.linear_model import Ridge\n",
    "\n",
    "ri_model = Ridge().fit(x_train,y_train)"
   ]
  },
  {
   "cell_type": "code",
   "execution_count": 21,
   "id": "a75b06d5",
   "metadata": {},
   "outputs": [
    {
     "name": "stdout",
     "output_type": "stream",
     "text": [
      "Cross Validation Score :  3.7670555183794\n",
      "RMSE : 4.012468805428925\n",
      "R2_Score : 0.9988019588377337\n"
     ]
    }
   ],
   "source": [
    "Rmse , R2_score = calculate_Metrics(ri_model)\n",
    "print(\"Cross Validation Score : \",np.mean(crossValidation(ri_model)))\n",
    "print(f\"RMSE : {Rmse}\\nR2_Score : {R2_score}\")\n",
    "\n",
    "rmse_dict['Ridge Regression'] = Rmse\n",
    "r2sc_dict['Ridge Regression'] = R2_score\n",
    "crossVal_dict['Ridge Regression'] = np.mean(crossValidation(ri_model))"
   ]
  },
  {
   "cell_type": "code",
   "execution_count": 22,
   "id": "9210a76b",
   "metadata": {},
   "outputs": [
    {
     "data": {
      "image/png": "[encoded data removed]",
      "text/plain": [
       "<Figure size 432x288 with 1 Axes>"
      ]
     },
     "metadata": {
      "needs_background": "light"
     },
     "output_type": "display_data"
    }
   ],
   "source": [
    "predictedPrice = ri_model.predict(x_test)\n",
    "plt.plot(predictedPrice,color = 'red',label = 'Predicted Price')\n",
    "plt.plot(list(y_test),color='blue' , label = 'True Price')\n",
    "plt.show()"
   ]
  },
  {
   "cell_type": "code",
   "execution_count": 23,
   "id": "4356fa62",
   "metadata": {},
   "outputs": [
    {
     "data": {
      "text/plain": [
       "Date\n",
       "2018-06-26    399.390015\n",
       "2018-06-27    390.390015\n",
       "2018-06-28    395.420013\n",
       "2018-06-29    391.429993\n",
       "2018-07-02    398.179993\n",
       "                 ...    \n",
       "2022-06-28    179.600006\n",
       "2022-06-29    178.360001\n",
       "2022-06-30    174.869995\n",
       "2022-07-01    179.949997\n",
       "2022-07-05    183.324997\n",
       "Name: Close, Length: 1013, dtype: float64"
      ]
     },
     "execution_count": 23,
     "metadata": {},
     "output_type": "execute_result"
    }
   ],
   "source": [
    "y_test"
   ]
  },
  {
   "cell_type": "code",
   "execution_count": 24,
   "id": "ad956394",
   "metadata": {},
   "outputs": [
    {
     "data": {
      "image/png": "[encoded data removed]",
      "text/plain": [
       "<Figure size 432x288 with 1 Axes>"
      ]
     },
     "metadata": {
      "needs_background": "light"
     },
     "output_type": "display_data"
    }
   ],
   "source": [
    "value = list(rmse_dict.values())\n",
    "keys = list(rmse_dict.keys())\n",
    "\n",
    "plt.bar(keys , value , color = 'red', width = 0.2 , align = 'center')\n",
    "plt.title('RMSE')\n",
    "plt.show()"
   ]
  },
  {
   "cell_type": "code",
   "execution_count": 25,
   "id": "84111446",
   "metadata": {},
   "outputs": [
    {
     "data": {
      "image/png": "[encoded data removed]",
      "text/plain": [
       "<Figure size 432x288 with 1 Axes>"
      ]
     },
     "metadata": {
      "needs_background": "light"
     },
     "output_type": "display_data"
    }
   ],
   "source": [
    "value = list(r2sc_dict.values())\n",
    "keys = list(r2sc_dict.keys())\n",
    "\n",
    "plt.bar(keys , value , color = 'green', width = 0.2 , align = 'center')\n",
    "plt.title('R2 Score')\n",
    "plt.show()"
   ]
  },
  {
   "cell_type": "code",
   "execution_count": 26,
   "id": "c9ebf4b4",
   "metadata": {},
   "outputs": [
    {
     "data": {
      "image/png": "[encoded data removed]",
      "text/plain": [
       "<Figure size 432x288 with 1 Axes>"
      ]
     },
     "metadata": {
      "needs_background": "light"
     },
     "output_type": "display_data"
    }
   ],
   "source": [
    "value = list(crossVal_dict.values())\n",
    "keys = list(crossVal_dict.keys())\n",
    "\n",
    "plt.bar(keys , value , color = 'blue', width = 0.2 , align = 'center')\n",
    "plt.title('Cross Validation')\n",
    "plt.show()"
   ]
  },
  {
   "cell_type": "code",
   "execution_count": null,
   "id": "05f72316",
   "metadata": {},
   "outputs": [],
   "source": []
  },
  {
   "cell_type": "code",
   "execution_count": null,
   "id": "c9c3f4a3",
   "metadata": {},
   "outputs": [],
   "source": []
  }
 ],
 "metadata": {
  "kernelspec": {
   "display_name": "Python 3 (ipykernel)",
   "language": "python",
   "name": "python3"
  },
  "language_info": {
   "codemirror_mode": {
    "name": "ipython",
    "version": 3
   },
   "file_extension": ".py",
   "mimetype": "text/x-python",
   "name": "python",
   "nbconvert_exporter": "python",
   "pygments_lexer": "ipython3",
   "version": "3.10.5"
  }
 },
 "nbformat": 4,
 "nbformat_minor": 5
}
